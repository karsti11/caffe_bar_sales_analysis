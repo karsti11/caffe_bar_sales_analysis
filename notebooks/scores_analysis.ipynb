{
 "cells": [
  {
   "cell_type": "code",
   "execution_count": 29,
   "id": "627edd68-94f9-483a-9ced-7890428c7f38",
   "metadata": {},
   "outputs": [],
   "source": [
    "import os\n",
    "import ast\n",
    "import pandas as pd\n",
    "import matplotlib.pyplot as plt\n",
    "from src.utils import get_project_root\n"
   ]
  },
  {
   "cell_type": "code",
   "execution_count": 4,
   "id": "7f5b1803-abeb-4e99-96cd-49f39a1b7d88",
   "metadata": {},
   "outputs": [],
   "source": [
    "PROJECT_ROOT_PATH = get_project_root()\n",
    "SCORES_DIR = os.path.join(PROJECT_ROOT_PATH,'reports/scores/')"
   ]
  },
  {
   "cell_type": "code",
   "execution_count": 5,
   "id": "4006c0fd-38c9-40dd-8c1b-3656023d0ac3",
   "metadata": {},
   "outputs": [
    {
     "data": {
      "text/plain": [
       "WindowsPath('d:/ml_python/programi/caffe_bar_sales_analysis/caffe_bar_sales_analysis')"
      ]
     },
     "execution_count": 5,
     "metadata": {},
     "output_type": "execute_result"
    }
   ],
   "source": [
    "PROJECT_ROOT_PATH"
   ]
  },
  {
   "cell_type": "code",
   "execution_count": 10,
   "id": "ea920020-6371-4ea9-90d4-6ed10f442b75",
   "metadata": {},
   "outputs": [],
   "source": [
    "scores_dict = {}\n",
    "for filename in os.listdir(SCORES_DIR):\n",
    "    if filename.endswith('.csv'):\n",
    "        scores_dict[filename] = pd.read_csv(SCORES_DIR+filename)\n",
    "        \n",
    "        "
   ]
  },
  {
   "cell_type": "code",
   "execution_count": 57,
   "id": "90927d90-4d6a-42fe-89c3-b98cdfda52aa",
   "metadata": {},
   "outputs": [
    {
     "name": "stdout",
     "output_type": "stream",
     "text": [
      "Features from 2021_06_06scores.csv:\n",
      "['item_price', 'day_of_week_0', 'day_of_week_1', 'day_of_week_2', 'day_of_week_3', 'day_of_week_4', 'day_of_week_5', 'day_of_week_6', 'month_of_year_1', 'month_of_year_2', 'month_of_year_3', 'month_of_year_4', 'month_of_year_5', 'month_of_year_6', 'month_of_year_7', 'month_of_year_8', 'month_of_year_9', 'month_of_year_10', 'month_of_year_11', 'month_of_year_12', 'year', 'first_third_of_month', 'second_third_of_month', 'last_third_of_month', 'easter', 'easter_monday', 'christmas', 'new_years_day', 'new_years_eve']\n",
      "Train wmape distribution:\n",
      "count    35.000000\n",
      "mean     54.598000\n",
      "std      15.052693\n",
      "min      22.750000\n",
      "25%      47.940000\n",
      "50%      52.540000\n",
      "75%      60.210000\n",
      "max      97.510000\n",
      "Name: train_wmape, dtype: float64\n",
      "Val wmape distribution:\n",
      "count     35.000000\n",
      "mean      59.954000\n",
      "std       19.716281\n",
      "min       24.880000\n",
      "25%       49.925000\n",
      "50%       59.980000\n",
      "75%       71.295000\n",
      "max      121.440000\n",
      "Name: val_wmape, dtype: float64\n",
      "Features from scaled_and_times_10_100.csv:\n",
      "['item_price', 'day_of_week_0', 'day_of_week_1', 'day_of_week_2', 'day_of_week_3', 'day_of_week_4', 'day_of_week_5', 'day_of_week_6', 'month_of_year_1', 'month_of_year_2', 'month_of_year_3', 'month_of_year_4', 'month_of_year_5', 'month_of_year_6', 'month_of_year_7', 'month_of_year_8', 'month_of_year_9', 'month_of_year_10', 'month_of_year_11', 'month_of_year_12', 'year', 'first_third_of_month', 'second_third_of_month', 'last_third_of_month']\n",
      "Train wmape distribution:\n",
      "count    35.000000\n",
      "mean     54.708571\n",
      "std      15.084558\n",
      "min      23.270000\n",
      "25%      47.850000\n",
      "50%      52.580000\n",
      "75%      60.155000\n",
      "max      97.650000\n",
      "Name: train_wmape, dtype: float64\n",
      "Val wmape distribution:\n",
      "count     35.000000\n",
      "mean      59.931429\n",
      "std       19.617268\n",
      "min       24.940000\n",
      "25%       49.940000\n",
      "50%       60.090000\n",
      "75%       70.895000\n",
      "max      120.110000\n",
      "Name: val_wmape, dtype: float64\n",
      "Features from score_v1.csv:\n",
      "['item_price', 'day_of_week_0', 'day_of_week_1', 'day_of_week_2', 'day_of_week_3', 'day_of_week_4', 'day_of_week_5', 'day_of_week_6', 'month_of_year_1', 'month_of_year_2', 'month_of_year_3', 'month_of_year_4', 'month_of_year_5', 'month_of_year_6', 'month_of_year_7', 'month_of_year_8', 'month_of_year_9', 'month_of_year_10', 'month_of_year_11', 'month_of_year_12', 'year', 'first_third_of_month', 'second_third_of_month', 'last_third_of_month']\n",
      "Train wmape distribution:\n",
      "count    35.000000\n",
      "mean     54.717714\n",
      "std      15.111217\n",
      "min      22.780000\n",
      "25%      47.940000\n",
      "50%      52.550000\n",
      "75%      60.220000\n",
      "max      97.650000\n",
      "Name: train_wmape, dtype: float64\n",
      "Val wmape distribution:\n",
      "count     35.000000\n",
      "mean      60.119143\n",
      "std       19.735531\n",
      "min       24.900000\n",
      "25%       49.920000\n",
      "50%       59.980000\n",
      "75%       71.275000\n",
      "max      121.430000\n",
      "Name: val_wmape, dtype: float64\n"
     ]
    }
   ],
   "source": [
    "for key, val in scores_dict.items():\n",
    "    print(f\"Features from {key}:\\n{list(ast.literal_eval(val.features_coefs.values[0]).keys())}\")\n",
    "    print(f\"Train wmape distribution:\\n{val.train_wmape.describe()}\")\n",
    "    print(f\"Val wmape distribution:\\n{val.val_wmape.describe()}\")"
   ]
  },
  {
   "cell_type": "code",
   "execution_count": 51,
   "id": "3f750594-1fd2-4e08-9521-929f3468ae42",
   "metadata": {},
   "outputs": [
    {
     "data": {
      "image/png": "[encoded data removed]",
      "text/plain": [
       "<Figure size 720x504 with 1 Axes>"
      ]
     },
     "metadata": {
      "needs_background": "light"
     },
     "output_type": "display_data"
    }
   ],
   "source": [
    "labels = list(scores_dict.keys())\n",
    "train_data = [val.train_wmape.values for val in scores_dict.values()]\n",
    "test_data = [val.val_wmape.values for val in scores_dict.values()]\n",
    "\n",
    "fig = plt.figure(figsize =(10, 7)) \n",
    "# Creating axes instance\n",
    "ax = fig.add_axes([0, 0, 1, 1])\n",
    " \n",
    "# Creating plot\n",
    "bp = ax.boxplot(train_data)\n",
    "ax.set_xticklabels(labels)\n",
    "# show plot\n",
    "plt.show()\n"
   ]
  },
  {
   "cell_type": "code",
   "execution_count": null,
   "id": "f5b0a13a-6b44-49ba-8aec-a2afc6667dbe",
   "metadata": {},
   "outputs": [],
   "source": []
  }
 ],
 "metadata": {
  "kernelspec": {
   "display_name": "Python 3",
   "language": "python",
   "name": "python3"
  },
  "language_info": {
   "codemirror_mode": {
    "name": "ipython",
    "version": 3
   },
   "file_extension": ".py",
   "mimetype": "text/x-python",
   "name": "python",
   "nbconvert_exporter": "python",
   "pygments_lexer": "ipython3",
   "version": "3.7.3"
  }
 },
 "nbformat": 4,
 "nbformat_minor": 5
}
